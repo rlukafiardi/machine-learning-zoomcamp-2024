{
 "cells": [
  {
   "cell_type": "markdown",
   "metadata": {},
   "source": [
    "### **Question 1**"
   ]
  },
  {
   "cell_type": "markdown",
   "metadata": {},
   "source": [
    "- Install Pipenv\n",
    "- What's the version of pipenv you installed?\n",
    "- Use --version to find out"
   ]
  },
  {
   "cell_type": "code",
   "execution_count": 1,
   "metadata": {},
   "outputs": [
    {
     "name": "stdout",
     "output_type": "stream",
     "text": [
      "The version of Pipenv: 2024.0.1\n"
     ]
    }
   ],
   "source": [
    "print(f\"The version of Pipenv: 2024.0.1\")"
   ]
  },
  {
   "cell_type": "markdown",
   "metadata": {},
   "source": [
    "### **Question 2**"
   ]
  },
  {
   "cell_type": "markdown",
   "metadata": {},
   "source": [
    "- Use Pipenv to install Scikit-Learn version 1.5.2\n",
    "- What's the first hash for scikit-learn you get in Pipfile.lock?"
   ]
  },
  {
   "cell_type": "code",
   "execution_count": 2,
   "metadata": {},
   "outputs": [
    {
     "name": "stdout",
     "output_type": "stream",
     "text": [
      "The first hash for scikit-learn: sha256:03b6158efa3faaf1feea3faa884c840ebd61b6484167c711548fce208ea09445\n"
     ]
    }
   ],
   "source": [
    "print(f\"The first hash for scikit-learn: sha256:03b6158efa3faaf1feea3faa884c840ebd61b6484167c711548fce208ea09445\")"
   ]
  },
  {
   "cell_type": "markdown",
   "metadata": {},
   "source": [
    "### **Model**"
   ]
  },
  {
   "cell_type": "code",
   "execution_count": 4,
   "metadata": {},
   "outputs": [
    {
     "name": "stderr",
     "output_type": "stream",
     "text": [
      "--2024-10-31 17:34:48--  https://raw.githubusercontent.com/DataTalksClub/machine-learning-zoomcamp/master/cohorts/2024/05-deployment/homework/model1.bin\n",
      "Resolving raw.githubusercontent.com (raw.githubusercontent.com)... 185.199.109.133, 185.199.111.133, 185.199.110.133, ...\n",
      "Connecting to raw.githubusercontent.com (raw.githubusercontent.com)|185.199.109.133|:443... connected.\n",
      "HTTP request sent, awaiting response... 200 OK\n",
      "Length: 850 [application/octet-stream]\n",
      "Saving to: 'model1.bin'\n",
      "\n",
      "     0K                                                       100% 33.4M=0s\n",
      "\n",
      "2024-10-31 17:34:49 (33.4 MB/s) - 'model1.bin' saved [850/850]\n",
      "\n",
      "--2024-10-31 17:34:49--  https://raw.githubusercontent.com/DataTalksClub/machine-learning-zoomcamp/master/cohorts/2024/05-deployment/homework/dv.bin\n",
      "Resolving raw.githubusercontent.com (raw.githubusercontent.com)... 185.199.109.133, 185.199.111.133, 185.199.110.133, ...\n",
      "Connecting to raw.githubusercontent.com (raw.githubusercontent.com)|185.199.109.133|:443... connected.\n",
      "HTTP request sent, awaiting response... 200 OK\n",
      "Length: 560 [application/octet-stream]\n",
      "Saving to: 'dv.bin'\n",
      "\n",
      "     0K                                                       100% 16.7M=0s\n",
      "\n",
      "2024-10-31 17:34:50 (16.7 MB/s) - 'dv.bin' saved [560/560]\n",
      "\n"
     ]
    }
   ],
   "source": [
    "PREFIX=\"https://raw.githubusercontent.com/DataTalksClub/machine-learning-zoomcamp/master/cohorts/2024/05-deployment/homework\"\n",
    "!wget $PREFIX/model1.bin\n",
    "!wget $PREFIX/dv.bin"
   ]
  },
  {
   "cell_type": "markdown",
   "metadata": {},
   "source": [
    "### **Question 3**"
   ]
  },
  {
   "cell_type": "markdown",
   "metadata": {},
   "source": [
    "Let's use these models!\n",
    "\n",
    "- Write a script for loading these models with pickle\n",
    "- Score this client:\n",
    "{\"job\": \"management\", \"duration\": 400, \"poutcome\": \"success\"}\n",
    "\n",
    "What's the probability that this client will get a subscription?"
   ]
  },
  {
   "cell_type": "code",
   "execution_count": 6,
   "metadata": {},
   "outputs": [
    {
     "name": "stdout",
     "output_type": "stream",
     "text": [
      "The probability of this client will get a subscription: 0.759\n"
     ]
    }
   ],
   "source": [
    "print(f\"The probability of this client will get a subscription: 0.759\")"
   ]
  },
  {
   "cell_type": "markdown",
   "metadata": {},
   "source": [
    "### **Question 4**"
   ]
  },
  {
   "cell_type": "markdown",
   "metadata": {},
   "source": [
    "Now let's serve this model as a web service\n",
    "\n",
    "- Install Flask and gunicorn (or waitress, if you're on Windows)\n",
    "- Write Flask code for serving the model\n",
    "- Now score this client using requests:\n",
    "\n",
    "- url = \"YOUR_URL\"\n",
    "- client = {\"job\": \"student\", \"duration\": 280, \"poutcome\": \"failure\"}\n",
    "- requests.post(url, json=client).json()\n",
    "\n",
    "What's the probability that this client will get a subscription?"
   ]
  },
  {
   "cell_type": "code",
   "execution_count": 1,
   "metadata": {},
   "outputs": [
    {
     "name": "stdout",
     "output_type": "stream",
     "text": [
      "The probability of this client will get a subscription: 0.335\n"
     ]
    }
   ],
   "source": [
    "print(f\"The probability of this client will get a subscription: 0.335\")"
   ]
  },
  {
   "cell_type": "markdown",
   "metadata": {},
   "source": [
    "### **Docker**"
   ]
  },
  {
   "cell_type": "markdown",
   "metadata": {},
   "source": [
    "Install Docker. We will use it for the next two questions.\n",
    "\n",
    "For these questions, we prepared a base image: svizor/zoomcamp-model:3.11.5-slim. You'll need to use it (see Question 5 for an example).\n",
    "\n",
    "This image is based on python:3.11.5-slim and has a logistic regression model (a different one) as well a dictionary vectorizer inside.\n",
    "\n",
    "This is how the Dockerfile for this image looks like:\n",
    "\n",
    "FROM python:3.11.5-slim\n",
    "\n",
    "WORKDIR /app\n",
    "\n",
    "COPY [\"model2.bin\", \"dv.bin\", \"./\"]\n",
    "\n",
    "We already built it and then pushed it to svizor/zoomcamp-model:3.11.5-slim"
   ]
  },
  {
   "cell_type": "markdown",
   "metadata": {},
   "source": [
    "### **Question 5**"
   ]
  },
  {
   "cell_type": "markdown",
   "metadata": {},
   "source": [
    "Download the base image svizor/zoomcamp-model:3.11.5-slim. You can easily make it by using docker pull command.\n",
    "\n",
    "So what's the size of this base image?"
   ]
  },
  {
   "cell_type": "code",
   "execution_count": 1,
   "metadata": {},
   "outputs": [
    {
     "name": "stdout",
     "output_type": "stream",
     "text": [
      "The size of the base image: 130MB\n"
     ]
    }
   ],
   "source": [
    "print(f\"The size of the base image: 130MB\")"
   ]
  },
  {
   "cell_type": "markdown",
   "metadata": {},
   "source": [
    "### **Dockerfile**"
   ]
  },
  {
   "cell_type": "markdown",
   "metadata": {},
   "source": [
    "Now create your own Dockerfile based on the image we prepared.\n",
    "\n",
    "It should start like that:\n",
    "\n",
    "FROM svizor/zoomcamp-model:3.11.5-slim\n",
    "add your stuff here\n",
    "\n",
    "Now complete it:\n",
    "\n",
    "- Install all the dependencies form the Pipenv file\n",
    "- Copy your Flask script\n",
    "- Run it with Gunicorn\n",
    "\n",
    "After that, you can build your docker image."
   ]
  },
  {
   "cell_type": "markdown",
   "metadata": {},
   "source": [
    "### **Question 6**"
   ]
  },
  {
   "cell_type": "markdown",
   "metadata": {},
   "source": [
    "Let's run your docker container!\n",
    "\n",
    "After running it, score this client once again:\n",
    "\n",
    "- url = \"YOUR_URL\"\n",
    "- client = {\"job\": \"management\", \"duration\": 400, \"poutcome\": \"success\"}\n",
    "- requests.post(url, json=client).json()\n",
    "\n",
    "What's the probability that this client will get a subscription now?"
   ]
  },
  {
   "cell_type": "code",
   "execution_count": 2,
   "metadata": {},
   "outputs": [
    {
     "name": "stdout",
     "output_type": "stream",
     "text": [
      "The probability of the client: 0.7590966516879658\n"
     ]
    }
   ],
   "source": [
    "print(f\"The probability of the client: 0.7590966516879658\")"
   ]
  }
 ],
 "metadata": {
  "kernelspec": {
   "display_name": "05-deployment-KPKUcx_Q",
   "language": "python",
   "name": "python3"
  },
  "language_info": {
   "codemirror_mode": {
    "name": "ipython",
    "version": 3
   },
   "file_extension": ".py",
   "mimetype": "text/x-python",
   "name": "python",
   "nbconvert_exporter": "python",
   "pygments_lexer": "ipython3",
   "version": "3.11.10"
  }
 },
 "nbformat": 4,
 "nbformat_minor": 2
}
